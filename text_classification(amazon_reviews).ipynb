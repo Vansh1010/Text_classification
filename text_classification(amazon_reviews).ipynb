{
 "cells": [
  {
   "cell_type": "code",
   "execution_count": 1,
   "metadata": {},
   "outputs": [],
   "source": [
    "import pandas as pd\n",
    "import numpy as np\n",
    "import nltk\n",
    "import matplotlib.pyplot as plt\n",
    "from nltk.tokenize import word_tokenize\n",
    "from nltk import pos_tag\n",
    "from nltk.corpus import stopwords\n",
    "from nltk.stem import WordNetLemmatizer\n",
    "from sklearn.preprocessing import LabelEncoder\n",
    "from collections import defaultdict\n",
    "from nltk.corpus import wordnet as wn\n",
    "from sklearn.feature_extraction.text import TfidfVectorizer\n",
    "from sklearn import model_selection, naive_bayes, svm\n",
    "from sklearn.metrics import accuracy_score"
   ]
  },
  {
   "cell_type": "code",
   "execution_count": 2,
   "metadata": {},
   "outputs": [],
   "source": [
    "np.random.seed(500)"
   ]
  },
  {
   "cell_type": "code",
   "execution_count": 3,
   "metadata": {},
   "outputs": [],
   "source": [
    "corpus=pd.read_csv(r\"C:\\Users\\Dhwani\\Desktop\\Datasets\\corpus.csv\", encoding='latin-1')\n"
   ]
  },
  {
   "cell_type": "code",
   "execution_count": 4,
   "metadata": {},
   "outputs": [
    {
     "data": {
      "text/plain": [
       "0        Stuning even for the non-gamer: This sound tr...\n",
       "1        The best soundtrack ever to anything.: I'm re...\n",
       "2        Amazing!: This soundtrack is my favorite musi...\n",
       "3        Excellent Soundtrack: I truly like this sound...\n",
       "4        Remember, Pull Your Jaw Off The Floor After H...\n",
       "5        an absolute masterpiece: I am quite sure any ...\n",
       "6        Buyer beware: This is a self-published book, ...\n",
       "7        Glorious story: I loved Whisper of the wicked...\n",
       "8        A FIVE STAR BOOK: I just finished reading Whi...\n",
       "9        Whispers of the Wicked Saints: This was a eas...\n",
       "10       The Worst!: A complete waste of time. Typogra...\n",
       "11       Great book: This was a great book,I just coul...\n",
       "12       Great Read: I thought this book was brilliant...\n",
       "13       Oh please: I guess you have to be a romance n...\n",
       "14       Awful beyond belief!: I feel I have to write ...\n",
       "15       Don't try to fool us with fake reviews.: It's...\n",
       "16       A romantic zen baseball comedy: When you hear...\n",
       "17       Fashionable Compression Stockings!: After I h...\n",
       "18       Jobst UltraSheer Thigh High: Excellent produc...\n",
       "19       sizes recomended in the size chart are not re...\n",
       "20       mens ultrasheer: This model may be ok for sed...\n",
       "21       Delicious cookie mix: I thought it was funny ...\n",
       "22       Another Abysmal Digital Copy: Rather than scr...\n",
       "23       A fascinating insight into the life of modern...\n",
       "24       i liked this album more then i thought i woul...\n",
       "25       Problem with charging smaller AAAs: I have ha...\n",
       "26       Works, but not as advertised: I bought one of...\n",
       "27       Disappointed: I read the reviews,made my purc...\n",
       "28       Oh dear: I was excited to find a book ostensi...\n",
       "29       Based on the reviews here I bought one and I'...\n",
       "                              ...                        \n",
       "9970     beware: The product does give the surround so...\n",
       "9971     happy i only wasted money for 2 Music Experie...\n",
       "9972     oh my goodness!: If this is a single release,...\n",
       "9973     The dummy \"FATS\" is hysterical!!!!: ALL I can...\n",
       "9974     Dummy Scared the Be-Jesus Out of Me: Oh, God,...\n",
       "9975     More Ham-O-Rama Theatrics From Sir Anthony: W...\n",
       "9976     Take The Knife Up The Hill And Rent This Movi...\n",
       "9977     MAGIC ADS WERE SCARY!: Though the movie was f...\n",
       "9978     Deliciously disturbing ....Highly Underestima...\n",
       "9979     Magic: If you like Anthony Hopkins, this is o...\n",
       "9980     Magic, on Blu Ray, starrring Anthony Hopkins ...\n",
       "9981     A ventriloquists nightmare: Magic is a timele...\n",
       "9982     great movie massacred by tape quality: One of...\n",
       "9983     Early Hopkins story still sends chills throug...\n",
       "9984     The Only Dummy Is The Writer: \"Magic\" poses t...\n",
       "9985     \"He's NO Dummy. . .\": Viewing \"Magic\" is when...\n",
       "9986     Amazingly suspenseful psychological thriller:...\n",
       "9987     A truly great horror movie: I saw this film l...\n",
       "9988     Frightening movie with superb acting by Sir H...\n",
       "9989     classic: i got this for my dad. it is super c...\n",
       "9990     Psychological thriller!: This movie really sc...\n",
       "9991     A little more money than what I expected to s...\n",
       "9992     \"The Silence of the Dummies\": This is overall...\n",
       "9993     Mauled again - killing bears to enrich himsel...\n",
       "9994     Sorry Jim: As a former realtor, Mr. Cole owes...\n",
       "9995     A revelation of life in small town America in...\n",
       "9996     Great biography of a very interesting journal...\n",
       "9997     Interesting Subject; Poor Presentation: You'd...\n",
       "9998     Don't buy: The box looked used and it is obvi...\n",
       "9999     Beautiful Pen and Fast Delivery.: The pen was...\n",
       "Name: text, Length: 10000, dtype: object"
      ]
     },
     "execution_count": 4,
     "metadata": {},
     "output_type": "execute_result"
    }
   ],
   "source": [
    "corpus['text']"
   ]
  },
  {
   "cell_type": "code",
   "execution_count": 5,
   "metadata": {},
   "outputs": [
    {
     "name": "stdout",
     "output_type": "stream",
     "text": [
      "['i', 'me', 'my', 'myself', 'we', 'our', 'ours', 'ourselves', 'you', \"you're\", \"you've\", \"you'll\", \"you'd\", 'your', 'yours', 'yourself', 'yourselves', 'he', 'him', 'his', 'himself', 'she', \"she's\", 'her', 'hers', 'herself', 'it', \"it's\", 'its', 'itself', 'they', 'them', 'their', 'theirs', 'themselves', 'what', 'which', 'who', 'whom', 'this', 'that', \"that'll\", 'these', 'those', 'am', 'is', 'are', 'was', 'were', 'be', 'been', 'being', 'have', 'has', 'had', 'having', 'do', 'does', 'did', 'doing', 'a', 'an', 'the', 'and', 'but', 'if', 'or', 'because', 'as', 'until', 'while', 'of', 'at', 'by', 'for', 'with', 'about', 'against', 'between', 'into', 'through', 'during', 'before', 'after', 'above', 'below', 'to', 'from', 'up', 'down', 'in', 'out', 'on', 'off', 'over', 'under', 'again', 'further', 'then', 'once', 'here', 'there', 'when', 'where', 'why', 'how', 'all', 'any', 'both', 'each', 'few', 'more', 'most', 'other', 'some', 'such', 'no', 'nor', 'not', 'only', 'own', 'same', 'so', 'than', 'too', 'very', 's', 't', 'can', 'will', 'just', 'don', \"don't\", 'should', \"should've\", 'now', 'd', 'll', 'm', 'o', 're', 've', 'y', 'ain', 'aren', \"aren't\", 'couldn', \"couldn't\", 'didn', \"didn't\", 'doesn', \"doesn't\", 'hadn', \"hadn't\", 'hasn', \"hasn't\", 'haven', \"haven't\", 'isn', \"isn't\", 'ma', 'mightn', \"mightn't\", 'mustn', \"mustn't\", 'needn', \"needn't\", 'shan', \"shan't\", 'shouldn', \"shouldn't\", 'wasn', \"wasn't\", 'weren', \"weren't\", 'won', \"won't\", 'wouldn', \"wouldn't\"]\n"
     ]
    }
   ],
   "source": [
    "# preprocessing\n",
    "\n",
    "print(stopwords.words('english'))"
   ]
  },
  {
   "cell_type": "code",
   "execution_count": 6,
   "metadata": {},
   "outputs": [
    {
     "data": {
      "text/plain": [
       "0        stuning even for the non-gamer: this sound tr...\n",
       "1        the best soundtrack ever to anything.: i'm re...\n",
       "2        amazing!: this soundtrack is my favorite musi...\n",
       "3        excellent soundtrack: i truly like this sound...\n",
       "4        remember, pull your jaw off the floor after h...\n",
       "5        an absolute masterpiece: i am quite sure any ...\n",
       "6        buyer beware: this is a self-published book, ...\n",
       "7        glorious story: i loved whisper of the wicked...\n",
       "8        a five star book: i just finished reading whi...\n",
       "9        whispers of the wicked saints: this was a eas...\n",
       "10       the worst!: a complete waste of time. typogra...\n",
       "11       great book: this was a great book,i just coul...\n",
       "12       great read: i thought this book was brilliant...\n",
       "13       oh please: i guess you have to be a romance n...\n",
       "14       awful beyond belief!: i feel i have to write ...\n",
       "15       don't try to fool us with fake reviews.: it's...\n",
       "16       a romantic zen baseball comedy: when you hear...\n",
       "17       fashionable compression stockings!: after i h...\n",
       "18       jobst ultrasheer thigh high: excellent produc...\n",
       "19       sizes recomended in the size chart are not re...\n",
       "20       mens ultrasheer: this model may be ok for sed...\n",
       "21       delicious cookie mix: i thought it was funny ...\n",
       "22       another abysmal digital copy: rather than scr...\n",
       "23       a fascinating insight into the life of modern...\n",
       "24       i liked this album more then i thought i woul...\n",
       "25       problem with charging smaller aaas: i have ha...\n",
       "26       works, but not as advertised: i bought one of...\n",
       "27       disappointed: i read the reviews,made my purc...\n",
       "28       oh dear: i was excited to find a book ostensi...\n",
       "29       based on the reviews here i bought one and i'...\n",
       "                              ...                        \n",
       "9970     beware: the product does give the surround so...\n",
       "9971     happy i only wasted money for 2 music experie...\n",
       "9972     oh my goodness!: if this is a single release,...\n",
       "9973     the dummy \"fats\" is hysterical!!!!: all i can...\n",
       "9974     dummy scared the be-jesus out of me: oh, god,...\n",
       "9975     more ham-o-rama theatrics from sir anthony: w...\n",
       "9976     take the knife up the hill and rent this movi...\n",
       "9977     magic ads were scary!: though the movie was f...\n",
       "9978     deliciously disturbing ....highly underestima...\n",
       "9979     magic: if you like anthony hopkins, this is o...\n",
       "9980     magic, on blu ray, starrring anthony hopkins ...\n",
       "9981     a ventriloquists nightmare: magic is a timele...\n",
       "9982     great movie massacred by tape quality: one of...\n",
       "9983     early hopkins story still sends chills throug...\n",
       "9984     the only dummy is the writer: \"magic\" poses t...\n",
       "9985     \"he's no dummy. . .\": viewing \"magic\" is when...\n",
       "9986     amazingly suspenseful psychological thriller:...\n",
       "9987     a truly great horror movie: i saw this film l...\n",
       "9988     frightening movie with superb acting by sir h...\n",
       "9989     classic: i got this for my dad. it is super c...\n",
       "9990     psychological thriller!: this movie really sc...\n",
       "9991     a little more money than what i expected to s...\n",
       "9992     \"the silence of the dummies\": this is overall...\n",
       "9993     mauled again - killing bears to enrich himsel...\n",
       "9994     sorry jim: as a former realtor, mr. cole owes...\n",
       "9995     a revelation of life in small town america in...\n",
       "9996     great biography of a very interesting journal...\n",
       "9997     interesting subject; poor presentation: you'd...\n",
       "9998     don't buy: the box looked used and it is obvi...\n",
       "9999     beautiful pen and fast delivery.: the pen was...\n",
       "Name: text, Length: 10000, dtype: object"
      ]
     },
     "execution_count": 6,
     "metadata": {},
     "output_type": "execute_result"
    }
   ],
   "source": [
    "corpus['text']=[entry.lower() for entry in corpus['text']]\n",
    "corpus['text']"
   ]
  },
  {
   "cell_type": "code",
   "execution_count": 7,
   "metadata": {},
   "outputs": [],
   "source": [
    "corpus['text']=[word_tokenize(entry) for entry in corpus['text']]"
   ]
  },
  {
   "cell_type": "code",
   "execution_count": 8,
   "metadata": {},
   "outputs": [],
   "source": [
    "tag_map=defaultdict(lambda:wn.NOUN)\n",
    "tag_map['J']=wn.ADJ\n",
    "tag_map['V']=wn.VERB\n",
    "tag_map['R']=wn.ADV\n",
    "\n",
    "for index, entry in enumerate(corpus['text']):\n",
    "    final_words=[]\n",
    "    word_Lemmatized=WordNetLemmatizer()\n",
    "    for word, tag in pos_tag(entry):\n",
    "        if word not in stopwords.words('english') and word.isalpha():\n",
    "            word_final=word_Lemmatized.lemmatize(word, tag_map[tag[0]])\n",
    "            final_words.append(word_final)\n",
    "#             print('hello')\n",
    "    corpus.loc[index,'text_final'] = repr(final_words)"
   ]
  },
  {
   "cell_type": "code",
   "execution_count": 26,
   "metadata": {},
   "outputs": [
    {
     "data": {
      "text/plain": [
       "0       ['stun', 'even', 'sound', 'track', 'beautiful'...\n",
       "1       ['best', 'soundtrack', 'ever', 'anything', 're...\n",
       "2       ['amaze', 'soundtrack', 'favorite', 'music', '...\n",
       "3       ['excellent', 'soundtrack', 'truly', 'like', '...\n",
       "4       ['remember', 'pull', 'jaw', 'floor', 'hear', '...\n",
       "5       ['absolute', 'masterpiece', 'quite', 'sure', '...\n",
       "6       ['buyer', 'beware', 'book', 'want', 'know', 'r...\n",
       "7       ['glorious', 'story', 'love', 'whisper', 'wick...\n",
       "8       ['five', 'star', 'book', 'finish', 'read', 'wh...\n",
       "9       ['whisper', 'wicked', 'saint', 'easy', 'read',...\n",
       "10      ['bad', 'complete', 'waste', 'time', 'typograp...\n",
       "11      ['great', 'book', 'great', 'book', 'could', 'p...\n",
       "12      ['great', 'read', 'think', 'book', 'brilliant'...\n",
       "13      ['oh', 'please', 'guess', 'romance', 'novel', ...\n",
       "14      ['awful', 'beyond', 'belief', 'feel', 'write',...\n",
       "15      ['try', 'fool', 'u', 'fake', 'review', 'glarin...\n",
       "16      ['romantic', 'zen', 'baseball', 'comedy', 'hea...\n",
       "17      ['fashionable', 'compression', 'stocking', 'dv...\n",
       "18      ['jobst', 'ultrasheer', 'thigh', 'high', 'exce...\n",
       "19      ['size', 'recomended', 'size', 'chart', 'real'...\n",
       "20      ['men', 'ultrasheer', 'model', 'may', 'ok', 's...\n",
       "21      ['delicious', 'cookie', 'mix', 'think', 'funny...\n",
       "22      ['another', 'abysmal', 'digital', 'copy', 'rat...\n",
       "23      ['fascinating', 'insight', 'life', 'modern', '...\n",
       "24      ['like', 'album', 'thought', 'would', 'hear', ...\n",
       "25      ['problem', 'charge', 'small', 'aaa', 'charger...\n",
       "26      ['work', 'advertised', 'buy', 'one', 'instruct...\n",
       "27      ['disappointed', 'read', 'review', 'make', 'pu...\n",
       "28      ['oh', 'dear', 'excite', 'find', 'book', 'oste...\n",
       "29      ['base', 'review', 'buy', 'one', 'glad', 'earl...\n",
       "                              ...                        \n",
       "9970    ['beware', 'product', 'give', 'surround', 'sou...\n",
       "9971    ['happy', 'waste', 'money', 'music', 'experien...\n",
       "9972    ['oh', 'goodness', 'single', 'release', 'must'...\n",
       "9973    ['dummy', 'fat', 'hysterical', 'really', 'say'...\n",
       "9974    ['dummy', 'scar', 'oh', 'god', 'remember', 'se...\n",
       "9975    ['theatrics', 'sir', 'anthony', 'whenever', 'a...\n",
       "9976    ['take', 'knife', 'hill', 'rent', 'movie', 'fo...\n",
       "9977    ['magic', 'ad', 'scary', 'though', 'movie', 'f...\n",
       "9978    ['deliciously', 'disturb', 'underestimated', '...\n",
       "9979    ['magic', 'like', 'anthony', 'hopkins', 'one',...\n",
       "9980    ['magic', 'blu', 'ray', 'starrring', 'anthony'...\n",
       "9981    ['ventriloquist', 'nightmare', 'magic', 'timel...\n",
       "9982    ['great', 'movie', 'massacre', 'tape', 'qualit...\n",
       "9983    ['early', 'hopkins', 'story', 'still', 'send',...\n",
       "9984    ['dummy', 'writer', 'magic', 'pose', 'question...\n",
       "9985    ['dummy', 'viewing', 'magic', 'first', 'become...\n",
       "9986    ['amazingly', 'suspenseful', 'psychological', ...\n",
       "9987    ['truly', 'great', 'horror', 'movie', 'saw', '...\n",
       "9988    ['frighten', 'movie', 'superb', 'act', 'sir', ...\n",
       "9989    ['classic', 'get', 'dad', 'super', 'creepy', '...\n",
       "9990    ['psychological', 'thriller', 'movie', 'really...\n",
       "9991    ['little', 'money', 'expect', 'spend', 'good',...\n",
       "9992    ['silence', 'dummy', 'overall', 'real', 'hoot'...\n",
       "9993    ['maul', 'kill', 'bear', 'enrich', 'jim', 'col...\n",
       "9994    ['sorry', 'jim', 'former', 'realtor', 'cole', ...\n",
       "9995    ['revelation', 'life', 'small', 'town', 'ameri...\n",
       "9996    ['great', 'biography', 'interesting', 'journal...\n",
       "9997    ['interest', 'subject', 'poor', 'presentation'...\n",
       "9998    ['buy', 'box', 'look', 'use', 'obviously', 'ne...\n",
       "9999    ['beautiful', 'pen', 'fast', 'delivery', 'pen'...\n",
       "Name: text_final, Length: 10000, dtype: object"
      ]
     },
     "execution_count": 26,
     "metadata": {},
     "output_type": "execute_result"
    }
   ],
   "source": [
    "corpus['text_final']"
   ]
  },
  {
   "cell_type": "code",
   "execution_count": 10,
   "metadata": {},
   "outputs": [],
   "source": [
    "train_x, test_x, train_y, test_y=model_selection.train_test_split(corpus['text_final'], corpus['label'], test_size=0.3)"
   ]
  },
  {
   "cell_type": "code",
   "execution_count": 11,
   "metadata": {},
   "outputs": [],
   "source": [
    "Encoder=LabelEncoder()\n",
    "train_y=Encoder.fit_transform(train_y)\n",
    "test_y=Encoder.fit_transform(test_y)"
   ]
  },
  {
   "cell_type": "code",
   "execution_count": 13,
   "metadata": {},
   "outputs": [],
   "source": [
    "Tfidf_vect=TfidfVectorizer(max_features=5000)\n",
    "Tfidf_vect.fit(corpus['text_final'])\n",
    "\n",
    "train_x_tfidf=Tfidf_vect.transform(train_x)\n",
    "test_x_tfidf=Tfidf_vect.transform(test_x)"
   ]
  },
  {
   "cell_type": "code",
   "execution_count": 17,
   "metadata": {},
   "outputs": [
    {
     "name": "stdout",
     "output_type": "stream",
     "text": [
      "  (0, 4506)\t0.3763188267807246\n",
      "  (0, 4505)\t0.15031494427382475\n",
      "  (0, 3976)\t0.35868777245753825\n",
      "  (0, 3890)\t0.2515140235472667\n",
      "  (0, 3860)\t0.2690675584422277\n",
      "  (0, 3745)\t0.34695623926050195\n",
      "  (0, 3655)\t0.2896999547088821\n",
      "  (0, 3564)\t0.29449641491430995\n",
      "  (0, 2931)\t0.229683025366997\n",
      "  (0, 1935)\t0.13406125327954532\n",
      "  (0, 1529)\t0.17761496997588844\n",
      "  (0, 521)\t0.321056290554803\n",
      "  (0, 491)\t0.12303572865008613\n",
      "  (0, 240)\t0.2448559358109696\n",
      "  (1, 4687)\t0.21384275526442909\n",
      "  (1, 4060)\t0.3566872275481094\n",
      "  (1, 3434)\t0.21279175847748263\n",
      "  (1, 3313)\t0.8157357261127677\n",
      "  (1, 2592)\t0.2173336717856602\n",
      "  (1, 1260)\t0.2074693534878867\n",
      "  (1, 604)\t0.1614401835472762\n",
      "  (2, 4734)\t0.18368024895699514\n",
      "  (2, 4625)\t0.15009324791624393\n",
      "  (2, 4466)\t0.10284196288022608\n",
      "  (2, 4191)\t0.1168175572462934\n",
      "  :\t:\n",
      "  (6998, 2523)\t0.11512525241790023\n",
      "  (6998, 2125)\t0.13650351320774795\n",
      "  (6998, 1971)\t0.07126979525506368\n",
      "  (6998, 1778)\t0.22013576217543665\n",
      "  (6998, 1746)\t0.19935227823153098\n",
      "  (6998, 1710)\t0.13509114757747032\n",
      "  (6998, 1587)\t0.135216658764585\n",
      "  (6998, 1571)\t0.18520472562254622\n",
      "  (6998, 1538)\t0.13386585823260982\n",
      "  (6998, 1533)\t0.09899799931811068\n",
      "  (6998, 1306)\t0.29572526575277436\n",
      "  (6998, 1194)\t0.23287144414689587\n",
      "  (6998, 491)\t0.36187527426182703\n",
      "  (6999, 4865)\t0.16162053232828144\n",
      "  (6999, 4136)\t0.5217385422290042\n",
      "  (6999, 3824)\t0.3649735868975402\n",
      "  (6999, 2911)\t0.16568268411504228\n",
      "  (6999, 2706)\t0.14615260074275177\n",
      "  (6999, 1971)\t0.14155242939037596\n",
      "  (6999, 1664)\t0.28173977593289695\n",
      "  (6999, 1529)\t0.17292898689607455\n",
      "  (6999, 1406)\t0.2877416804485293\n",
      "  (6999, 1246)\t0.314256617088249\n",
      "  (6999, 322)\t0.28499442233774624\n",
      "  (6999, 50)\t0.3571519291530235\n"
     ]
    }
   ],
   "source": [
    "print(train_x_tfidf)"
   ]
  },
  {
   "cell_type": "code",
   "execution_count": 18,
   "metadata": {},
   "outputs": [
    {
     "name": "stdout",
     "output_type": "stream",
     "text": [
      "Accuracy score: 84.66666666666667\n"
     ]
    }
   ],
   "source": [
    "SVM=svm.SVC(C=1.0, kernel='linear', degree=3, gamma='auto')\n",
    "SVM.fit(train_x_tfidf, train_y)\n",
    "\n",
    "SVM_predictions=SVM.predict(test_x_tfidf)\n",
    "\n",
    "print(\"Accuracy score:\", accuracy_score(SVM_predictions, test_y)*100)"
   ]
  }
 ],
 "metadata": {
  "kernelspec": {
   "display_name": "Python 3",
   "language": "python",
   "name": "python3"
  },
  "language_info": {
   "codemirror_mode": {
    "name": "ipython",
    "version": 3
   },
   "file_extension": ".py",
   "mimetype": "text/x-python",
   "name": "python",
   "nbconvert_exporter": "python",
   "pygments_lexer": "ipython3",
   "version": "3.7.3"
  }
 },
 "nbformat": 4,
 "nbformat_minor": 2
}
